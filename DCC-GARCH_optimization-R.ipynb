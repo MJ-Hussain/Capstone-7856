{
 "cells": [
  {
   "cell_type": "markdown",
   "metadata": {},
   "source": [
    "# DCC GARCH Optimization"
   ]
  },
  {
   "cell_type": "code",
   "execution_count": 1,
   "metadata": {
    "vscode": {
     "languageId": "r"
    }
   },
   "outputs": [
    {
     "name": "stderr",
     "output_type": "stream",
     "text": [
      "Loading required package: rugarch\n",
      "\n",
      "Loading required package: parallel\n",
      "\n",
      "\n",
      "Attaching package: ‘rugarch’\n",
      "\n",
      "\n",
      "The following object is masked from ‘package:stats’:\n",
      "\n",
      "    sigma\n",
      "\n",
      "\n",
      "Loading required package: zoo\n",
      "\n",
      "\n",
      "Attaching package: ‘zoo’\n",
      "\n",
      "\n",
      "The following objects are masked from ‘package:base’:\n",
      "\n",
      "    as.Date, as.Date.numeric\n",
      "\n",
      "\n",
      "\n",
      "Attaching package: ‘xts’\n",
      "\n",
      "\n",
      "The following objects are masked from ‘package:rmgarch’:\n",
      "\n",
      "    first, last\n",
      "\n",
      "\n"
     ]
    }
   ],
   "source": [
    "# import libraries\n",
    "library(rmgarch)\n",
    "library(xts)\n",
    "library(rugarch) \n",
    "library(zoo) "
   ]
  },
  {
   "cell_type": "markdown",
   "metadata": {},
   "source": [
    "read the the transformed data"
   ]
  },
  {
   "cell_type": "code",
   "execution_count": 2,
   "metadata": {
    "vscode": {
     "languageId": "r"
    }
   },
   "outputs": [
    {
     "name": "stdout",
     "output_type": "stream",
     "text": [
      "Training set: 3622 observations (80%)\n",
      "Testing set: 906 observations (20%)\n"
     ]
    }
   ],
   "source": [
    "data <- read.csv(\"transformed_data.csv\")\n",
    "# split data into training and testing\n",
    "# Convert data to time series if needed\n",
    "if(!\"Date\" %in% colnames(data)) {\n",
    "    data$Date <- as.Date(rownames(data))\n",
    "} else {\n",
    "    # Ensure Date column is in Date format\n",
    "    data$Date <- as.Date(data$Date)\n",
    "}\n",
    "\n",
    "# Calculate split point at 80%\n",
    "split_point <- floor(nrow(data) * 0.8)\n",
    "\n",
    "# Split the data\n",
    "train_data <- data[1:split_point, ]\n",
    "test_data <- data[(split_point + 1):nrow(data), ]\n",
    "# Ensure Date columns are properly formatted as Date objects\n",
    "train_data$Date <- as.Date(train_data$Date)\n",
    "test_data$Date <- as.Date(test_data$Date)\n",
    "\n",
    "# Create xts objects\n",
    "train_data_xts <- xts(train_data[, -which(colnames(train_data) == \"Date\")], order.by = train_data$Date)\n",
    "test_data_xts <- xts(test_data[, -which(colnames(test_data) == \"Date\")], order.by = test_data$Date) \n",
    "\n",
    "\n",
    "\n",
    "# Print summary of the split\n",
    "cat(\"Training set: \", nrow(train_data), \" observations (\", round(nrow(train_data)/nrow(data)*100), \"%)\\n\", sep=\"\")\n",
    "cat(\"Testing set: \", nrow(test_data), \" observations (\", round(nrow(test_data)/nrow(data)*100), \"%)\\n\", sep=\"\")"
   ]
  },
  {
   "cell_type": "code",
   "execution_count": 4,
   "metadata": {
    "vscode": {
     "languageId": "r"
    }
   },
   "outputs": [
    {
     "name": "stdout",
     "output_type": "stream",
     "text": [
      "Missing values in training data:\n",
      "- Any missing values: FALSE \n",
      "- Total missing values: 0 \n",
      "- Missing values by column:\n",
      "                 S.P500 Treasury_30y_10y_Spread                     VIX \n",
      "                      0                       0                       0 \n",
      "\n",
      "Missing values in testing data:\n",
      "- Any missing values: FALSE \n",
      "- Total missing values: 0 \n",
      "- Missing values by column:\n",
      "                 S.P500 Treasury_30y_10y_Spread                     VIX \n",
      "                      0                       0                       0 \n"
     ]
    }
   ],
   "source": [
    "# Check for missing values in training and testing data\n",
    "\n",
    "# For training data\n",
    "cat(\"Missing values in training data:\\n\")\n",
    "cat(\"- Any missing values:\", anyNA(train_data_xts), \"\\n\")\n",
    "cat(\"- Total missing values:\", sum(is.na(train_data_xts)), \"\\n\")\n",
    "cat(\"- Missing values by column:\\n\")\n",
    "print(colSums(is.na(train_data_xts)))\n",
    "\n",
    "# For testing data\n",
    "cat(\"\\nMissing values in testing data:\\n\")\n",
    "cat(\"- Any missing values:\", anyNA(test_data_xts), \"\\n\")\n",
    "cat(\"- Total missing values:\", sum(is.na(test_data_xts)), \"\\n\")\n",
    "cat(\"- Missing values by column:\\n\")\n",
    "print(colSums(is.na(test_data_xts)))"
   ]
  },
  {
   "cell_type": "code",
   "execution_count": 3,
   "metadata": {
    "vscode": {
     "languageId": "r"
    }
   },
   "outputs": [
    {
     "data": {
      "text/plain": [
       "                S.P500\n",
       "2007-01-04  0.07250232\n",
       "2007-01-05 -0.51015312\n",
       "2007-01-08  0.15121486\n",
       "2007-01-09 -0.06614069\n",
       "2007-01-10  0.12900888\n",
       "2007-01-11  0.47724855"
      ]
     },
     "metadata": {},
     "output_type": "display_data"
    }
   ],
   "source": [
    "head(train_data_xts[, 1])"
   ]
  },
  {
   "cell_type": "markdown",
   "metadata": {},
   "source": [
    "## Univariate GARCH fit"
   ]
  },
  {
   "cell_type": "markdown",
   "metadata": {},
   "source": [
    "This function (fit_garch_model) is designed to fit a univariate GARCH model to a given time series. It:\n",
    "\n",
    "• Creates a model specification using given parameters for the ARMA and GARCH orders, distribution, and volatility model.\n",
    "\n",
    "• Attempts to fit the specified model to the series using a robust solver (with error handling via tryCatch).\n",
    "\n",
    "• Returns key metrics such as AIC, BIC, HQIC, log-likelihood, convergence status, and the full model summary if the fit is successful or provides an error message if not."
   ]
  },
  {
   "cell_type": "code",
   "execution_count": 3,
   "metadata": {
    "vscode": {
     "languageId": "r"
    }
   },
   "outputs": [],
   "source": [
    "fit_garch_model <- function(series, \n",
    "                           arma_order = c(1,1),\n",
    "                           garch_order = c(1,1),\n",
    "                           distribution = \"std\",\n",
    "                           model = \"sGARCH\") {\n",
    "    \n",
    "    # Create the specification\n",
    "    spec <- ugarchspec(\n",
    "        mean.model = list(armaOrder = arma_order),\n",
    "        variance.model = list(model = model, \n",
    "                            garchOrder = garch_order),\n",
    "        distribution.model = distribution,\n",
    "        start.pars = list(omega = 0.05, alpha1 = 0.05)\n",
    "    )\n",
    "    \n",
    "    # Fit the model\n",
    "    fit <- tryCatch({\n",
    "        ugarchfit(spec, series, solver = \"hybrid\")\n",
    "    }, error = function(e) {\n",
    "        return(list(error = e$message))\n",
    "    })\n",
    "    \n",
    "    # Error handling\n",
    "    if(is.list(fit) && !is.null(fit$error)) {\n",
    "        return(list(\n",
    "            convergence = FALSE,\n",
    "            error = fit$error,\n",
    "            aic = NA,\n",
    "            bic = NA,\n",
    "            hqic = NA,\n",
    "            loglik = NA,\n",
    "            summary = NULL\n",
    "        ))\n",
    "    }\n",
    "    \n",
    "    # Return results\n",
    "    list(\n",
    "        convergence = fit@fit$convergence,\n",
    "        error = NULL,\n",
    "        aic = infocriteria(fit)[1],\n",
    "        bic = infocriteria(fit)[2],\n",
    "        hqic = infocriteria(fit)[3],\n",
    "        loglik = likelihood(fit),\n",
    "        summary = fit\n",
    "    )\n",
    "}"
   ]
  },
  {
   "cell_type": "code",
   "execution_count": 4,
   "metadata": {
    "vscode": {
     "languageId": "r"
    }
   },
   "outputs": [
    {
     "data": {
      "text/plain": [
       "\n",
       "*---------------------------------*\n",
       "*          GARCH Model Fit        *\n",
       "*---------------------------------*\n",
       "\n",
       "Conditional Variance Dynamics \t\n",
       "-----------------------------------\n",
       "GARCH Model\t: gjrGARCH(2,1)\n",
       "Mean Model\t: ARFIMA(0,0,0)\n",
       "Distribution\t: sstd \n",
       "\n",
       "Optimal Parameters\n",
       "------------------------------------\n",
       "        Estimate  Std. Error   t value Pr(>|t|)\n",
       "mu      0.013247    0.000071   186.593        0\n",
       "omega   0.209039    0.000325   642.332        0\n",
       "alpha1  0.188952    0.000691   273.508        0\n",
       "alpha2  0.090321    0.000712   126.883        0\n",
       "beta1   0.892149    0.001031   865.024        0\n",
       "gamma1 -1.000000    0.000829 -1206.203        0\n",
       "gamma2 -0.914999    0.001247  -733.587        0\n",
       "skew    0.938981    0.013823    67.928        0\n",
       "shape   2.300597    0.013604   169.111        0\n",
       "\n",
       "Robust Standard Errors:\n",
       "        Estimate  Std. Error   t value Pr(>|t|)\n",
       "mu      0.013247    0.000233    56.818        0\n",
       "omega   0.209039    0.000233   895.263        0\n",
       "alpha1  0.188952    0.000353   535.259        0\n",
       "alpha2  0.090321    0.001019    88.658        0\n",
       "beta1   0.892149    0.003261   273.616        0\n",
       "gamma1 -1.000000    0.001499  -667.044        0\n",
       "gamma2 -0.914999    0.000890 -1028.260        0\n",
       "skew    0.938981    0.013248    70.877        0\n",
       "shape   2.300597    0.022405   102.683        0\n",
       "\n",
       "LogLikelihood : -4334.937 \n",
       "\n",
       "Information Criteria\n",
       "------------------------------------\n",
       "                   \n",
       "Akaike       2.3986\n",
       "Bayes        2.4140\n",
       "Shibata      2.3986\n",
       "Hannan-Quinn 2.4041\n",
       "\n",
       "Weighted Ljung-Box Test on Standardized Residuals\n",
       "------------------------------------\n",
       "                        statistic p-value\n",
       "Lag[1]                    0.02438  0.8759\n",
       "Lag[2*(p+q)+(p+q)-1][2]   0.58087  0.6568\n",
       "Lag[4*(p+q)+(p+q)-1][5]   2.10743  0.5933\n",
       "d.o.f=0\n",
       "H0 : No serial correlation\n",
       "\n",
       "Weighted Ljung-Box Test on Standardized Squared Residuals\n",
       "------------------------------------\n",
       "                         statistic p-value\n",
       "Lag[1]                       4.899 0.02687\n",
       "Lag[2*(p+q)+(p+q)-1][8]     10.497 0.02681\n",
       "Lag[4*(p+q)+(p+q)-1][14]    12.786 0.06668\n",
       "d.o.f=3\n",
       "\n",
       "Weighted ARCH LM Tests\n",
       "------------------------------------\n",
       "            Statistic Shape Scale P-Value\n",
       "ARCH Lag[4]     4.567 0.500 2.000 0.03260\n",
       "ARCH Lag[6]     6.343 1.461 1.711 0.05634\n",
       "ARCH Lag[8]     6.707 2.368 1.583 0.11553\n",
       "\n",
       "Nyblom stability test\n",
       "------------------------------------\n",
       "Joint Statistic:  2.5726\n",
       "Individual Statistics:              \n",
       "mu     0.03843\n",
       "omega  0.03344\n",
       "alpha1 0.06094\n",
       "alpha2 0.07637\n",
       "beta1  0.33286\n",
       "gamma1 0.02552\n",
       "gamma2 0.04012\n",
       "skew   0.20964\n",
       "shape  1.34527\n",
       "\n",
       "Asymptotic Critical Values (10% 5% 1%)\n",
       "Joint Statistic:     \t 2.1 2.32 2.82\n",
       "Individual Statistic:\t 0.35 0.47 0.75\n",
       "\n",
       "Sign Bias Test\n",
       "------------------------------------\n",
       "                   t-value     prob sig\n",
       "Sign Bias           2.9362 0.003344 ***\n",
       "Negative Sign Bias  1.4415 0.149530    \n",
       "Positive Sign Bias  0.9276 0.353662    \n",
       "Joint Effect       15.2314 0.001629 ***\n",
       "\n",
       "\n",
       "Adjusted Pearson Goodness-of-Fit Test:\n",
       "------------------------------------\n",
       "  group statistic p-value(g-1)\n",
       "1    20     35.86      0.01099\n",
       "2    30     40.47      0.07657\n",
       "3    40     54.05      0.05513\n",
       "4    50     61.27      0.11220\n",
       "\n",
       "\n",
       "Elapsed time : 5.308725 \n"
      ]
     },
     "metadata": {},
     "output_type": "display_data"
    }
   ],
   "source": [
    "# Example run of the function\n",
    "result <- fit_garch_model(train_data_xts[,1],c(0,0),c(2,1),\"sstd\",\"gjrGARCH\")\n",
    "result$summary"
   ]
  },
  {
   "cell_type": "markdown",
   "metadata": {},
   "source": [
    "This function, optimize_garch_parameters, takes a univariate time series as input and searches for the best GARCH model specification by:\n",
    "\n",
    "• Setting up a grid of possible ARMA and GARCH parameter combinations along with different distributions and volatility models.  \n",
    "• Executing the model fitting process in parallel (using multiple cores) to expedite the search.  \n",
    "• Running the custom fit_garch_model for each parameter setting and collecting key fitting metrics like AIC, BIC, HQIC, and log-likelihood along with the fit-summary\n",
    "\n"
   ]
  },
  {
   "cell_type": "code",
   "execution_count": 5,
   "metadata": {
    "vscode": {
     "languageId": "r"
    }
   },
   "outputs": [],
   "source": [
    "optimize_garch_parameters <- function(series, \n",
    "                                    arma_range = list(p = 0:1, q = 0:1),\n",
    "                                    garch_range = list(p = 1:2, q = 1:2),\n",
    "                                    distributions = c(\"norm\", \"std\", \"sstd\"),\n",
    "                                    models = c(\"sGARCH\", \"eGARCH\", \"gjrGARCH\"),\n",
    "                                    cores = parallel::detectCores() - 1) {\n",
    "    \n",
    "    library(parallel)\n",
    "    library(doParallel)\n",
    "    \n",
    "    # Create cluster\n",
    "    cl <- makeCluster(cores)\n",
    "    registerDoParallel(cl)\n",
    "    \n",
    "    # Export the fit_garch_model function to workers\n",
    "    clusterExport(cl, \"fit_garch_model\")\n",
    "    \n",
    "    # Create parameter combinations\n",
    "    params <- expand.grid(\n",
    "        arma_p = arma_range$p,\n",
    "        arma_q = arma_range$q,\n",
    "        garch_p = garch_range$p,\n",
    "        garch_q = garch_range$q,\n",
    "        distribution = distributions,\n",
    "        model = models)\n",
    "    \n",
    "    # Parallel execution\n",
    "    results <- foreach(i = 1:nrow(params), .packages = c(\"rmgarch\"), .export = \"fit_garch_model\") %dopar% {\n",
    "        model_result <- fit_garch_model(\n",
    "            series = series,\n",
    "            arma_order = c(params$arma_p[i], params$arma_q[i]),\n",
    "            garch_order = c(params$garch_p[i], params$garch_q[i]),\n",
    "            distribution = as.character(params$distribution[i]),\n",
    "            model = as.character(params$model[i])\n",
    "        )\n",
    "        \n",
    "        # Add parameters to results\n",
    "        model_result$parameters <- list(\n",
    "            arma_order = c(params$arma_p[i], params$arma_q[i]),\n",
    "            garch_order = c(params$garch_p[i], params$garch_q[i]),\n",
    "            distribution = as.character(params$distribution[i]),\n",
    "            model = as.character(params$model[i])\n",
    "        )\n",
    "        \n",
    "        # Save the fit model object for later evaluation\n",
    "        if (!is.null(model_result$summary)) {\n",
    "            model_result$fit_object <- model_result$summary\n",
    "        }\n",
    "                \n",
    "        model_result\n",
    "    }\n",
    "    \n",
    "    # Stop cluster\n",
    "    stopCluster(cl)\n",
    "    \n",
    "    # Find best model based on AIC\n",
    "    valid_results <- results[sapply(results, function(x) !is.na(x$aic))]\n",
    "    best_model <- valid_results[[which.min(sapply(valid_results, function(x) x$aic))]]\n",
    "    \n",
    "    list(\n",
    "        all_results = results,\n",
    "        best_model = best_model\n",
    "    )\n",
    "}"
   ]
  },
  {
   "cell_type": "markdown",
   "metadata": {},
   "source": [
    "Save all the optimization results along with the best parameters"
   ]
  },
  {
   "cell_type": "code",
   "execution_count": 31,
   "metadata": {
    "vscode": {
     "languageId": "r"
    }
   },
   "outputs": [
    {
     "name": "stdout",
     "output_type": "stream",
     "text": [
      "Optimizing GARCH parameters for series 1 \n",
      "Optimizing GARCH parameters for series 2 \n",
      "Optimizing GARCH parameters for series 3 \n"
     ]
    }
   ],
   "source": [
    "# Run optimize_garch_parameters for each of the 3 series in train_data_xts\n",
    "all_optimization_results <- list()\n",
    "best_models <- list()\n",
    "\n",
    "# Create a directory for storing model summaries if it doesn't exist\n",
    "dir.create(\"model_summaries\", showWarnings = FALSE)\n",
    "\n",
    "for (i in 1:3) {\n",
    "    cat(\"Optimizing GARCH parameters for series\", i, \"\\n\")\n",
    "    \n",
    "    # Run the optimization\n",
    "    result <- optimize_garch_parameters(\n",
    "        series = train_data_xts[, i],\n",
    "        arma_range = list(p = 0:1, q = 0:1),\n",
    "        garch_range = list(p = 1:2, q = 1:2),\n",
    "        distributions = c(\"norm\", \"std\", \"sstd\"),\n",
    "        models = c(\"sGARCH\", \"eGARCH\", \"gjrGARCH\")\n",
    "    )\n",
    "    \n",
    "    # Store results\n",
    "    all_optimization_results[[i]] <- result$all_results\n",
    "    best_models[[i]] <- result$best_model\n",
    "    \n",
    "    # Save all model results for this series\n",
    "    for (j in 1:length(result$all_results)) {\n",
    "        # Only save models that successfully converged\n",
    "        if (!is.null(result$all_results[[j]]$fit_object)) {\n",
    "            model_summary_file <- paste0(\"model_summaries/series_\", i, \"_model_\", j, \".rds\")\n",
    "            saveRDS(result$all_results[[j]]$fit_object, model_summary_file)\n",
    "        # Save model summary as text file\n",
    "        summary_text <- capture.output(print(result$all_results[[j]]$fit_object))\n",
    "        model_text_file <- paste0(\"model_summaries/series_\", i, \"_model_\", j, \"_summary.txt\")\n",
    "        writeLines(summary_text, model_text_file)\n",
    "    }\n",
    "    \n",
    "    \n",
    "    }\n",
    "}\n",
    "\n",
    "\n",
    "\n",
    "# Create a dataframe with all results for detailed analysis\n",
    "all_results_df <- do.call(rbind, lapply(1:3, function(i) {\n",
    "    do.call(rbind, lapply(1:length(all_optimization_results[[i]]), function(j) {\n",
    "        result <- all_optimization_results[[i]][[j]]\n",
    "        data.frame(\n",
    "            Series = i,\n",
    "            ModelID = j,\n",
    "            ARMA_P = result$parameters$arma_order[1],\n",
    "            ARMA_Q = result$parameters$arma_order[2],\n",
    "            GARCH_P = result$parameters$garch_order[1],\n",
    "            GARCH_Q = result$parameters$garch_order[2],\n",
    "            Distribution = result$parameters$distribution,\n",
    "            Model = result$parameters$model,\n",
    "            AIC = result$aic,\n",
    "            BIC = result$bic,\n",
    "            HQIC = result$hqic,\n",
    "            LogLikelihood = result$loglik,\n",
    "            Convergence = !is.null(result$convergence) && result$convergence,\n",
    "            Error = if(is.null(result$error)) NA else result$error\n",
    "        )\n",
    "    }))\n",
    "}))\n",
    "\n",
    "# Save all results to CSV and JSON for Python compatibility\n",
    "write.csv(all_results_df, \"garch_optimization_all_results.csv\", row.names = FALSE)\n"
   ]
  },
  {
   "cell_type": "markdown",
   "metadata": {},
   "source": [
    "saved all the fit summaries which contain the dianostics of the model are saved in the folder \"model_summaries\". The models will be evaluated based on these summaries using custom scoring function."
   ]
  },
  {
   "cell_type": "markdown",
   "metadata": {},
   "source": [
    "# Optimize DCC based on best GARCH parameters"
   ]
  },
  {
   "cell_type": "markdown",
   "metadata": {},
   "source": [
    "This function, optimize_dcc, performs dynamic conditional correlation (DCC) model estimation on multivariate time series data. It:\n",
    "\n",
    "• Constructs GARCH specifications for each series using pre-defined parameters.  \n",
    "• Fits individual GARCH models to each time series with improved solver settings and error handling.  \n",
    "• Creates a DCC specification by combining the univariate GARCH specifications.  \n",
    "• Fits the overall DCC model to capture the dynamic correlations between series.  \n",
    "• Returns fit summary alongwith key fitting metrics (AIC, BIC, HQIC, and LogLikelihood) for model evaluation."
   ]
  },
  {
   "cell_type": "code",
   "execution_count": 3,
   "metadata": {
    "vscode": {
     "languageId": "r"
    }
   },
   "outputs": [],
   "source": [
    "optimize_dcc <- function(data, \n",
    "                         dcc_order = c(1,1), \n",
    "                         distribution = \"mvnorm\",\n",
    "                         garch_params = list(\n",
    "                             list(arma_order = c(1,0), garch_order = c(2,1), model = \"gjrGARCH\", dist='sstd'),\n",
    "                             list(arma_order = c(1,0), garch_order = c(1,1), model = \"gjrGARCH\", dist='sstd'),\n",
    "                             list(arma_order = c(1,1), garch_order = c(2,2), model = \"gjrGARCH\", dist='sstd')\n",
    "                         )) {\n",
    "    \n",
    "    # Create GARCH specifications for each series\n",
    "    garch_specs <- lapply(garch_params, function(params) {\n",
    "        ugarchspec(\n",
    "            mean.model = list(armaOrder = params$arma_order),\n",
    "            variance.model = list(model = params$model, garchOrder = params$garch_order),\n",
    "            distribution.model = params$dist\n",
    "        )\n",
    "    })\n",
    "    garch_fits <- list()\n",
    "    # Fit GARCH models to each series\n",
    "    garch_fits <- lapply(1:3, function(i) {\n",
    "        fit <- tryCatch({\n",
    "            ugarchfit(spec = garch_specs[[i]], data = data[, i], solver = \"gosolnp\",\n",
    "                      solver.control = list(tol = 1e-7, max.iter = 5000, trace = 0))\n",
    "        }, error = function(e) NULL)\n",
    "        if (is.null(fit)) {\n",
    "            stop(paste(\"GARCH fitting failed for series\", i))\n",
    "        }\n",
    "        return(fit)\n",
    "    })\n",
    "    \n",
    "    # Create DCC specification\n",
    "    dcc_spec <- dccspec(uspec = multispec(garch_specs), \n",
    "                        dccOrder = dcc_order, \n",
    "                        distribution = distribution)\n",
    "    \n",
    "    # Fit DCC model \n",
    "    dcc_fit <- tryCatch({\n",
    "        dccfit(dcc_spec, data = data,fit=garch_fits, solver = \"gosolnp\",\n",
    "               solver.control = list(tol = 1e-7, max.iter = 5000, trace = 0))\n",
    "    }, error = function(e) NULL)\n",
    "    \n",
    "    if (is.null(dcc_fit)) {\n",
    "        stop(\"DCC fitting failed.\")\n",
    "    }\n",
    "    \n",
    "    # Return results\n",
    "    list(\n",
    "        AIC = infocriteria(dcc_fit)[1],\n",
    "        BIC = infocriteria(dcc_fit)[2],\n",
    "        HQIC = infocriteria(dcc_fit)[3],\n",
    "        LogLikelihood = likelihood(dcc_fit),\n",
    "        fit = dcc_fit\n",
    "    )\n",
    "}"
   ]
  },
  {
   "cell_type": "code",
   "execution_count": 6,
   "metadata": {
    "vscode": {
     "languageId": "r"
    }
   },
   "outputs": [
    {
     "name": "stdout",
     "output_type": "stream",
     "text": [
      "  ModelID DCC_A DCC_B Distribution      AIC      BIC     HQIC LogLikelihood\n",
      "1       1     1     1       mvnorm       NA       NA       NA            NA\n",
      "2       2     2     1       mvnorm       NA       NA       NA            NA\n",
      "3       3     1     2       mvnorm 3.065082 3.126654 3.064887     -5514.864\n",
      "4       4     2     2       mvnorm       NA       NA       NA            NA\n",
      "5       5     1     1          mvt       NA       NA       NA            NA\n",
      "6       6     2     1          mvt       NA       NA       NA            NA\n",
      "7       7     1     2          mvt       NA       NA       NA            NA\n",
      "8       8     2     2          mvt 2.788953 2.853945 2.788736     -5012.794\n",
      "                                                                        Error\n",
      "1 Error in optimize_dcc(data, dcc_order, distribution): DCC fitting failed.\\n\n",
      "2 Error in optimize_dcc(data, dcc_order, distribution): DCC fitting failed.\\n\n",
      "3                                                                        <NA>\n",
      "4 Error in optimize_dcc(data, dcc_order, distribution): DCC fitting failed.\\n\n",
      "5 Error in optimize_dcc(data, dcc_order, distribution): DCC fitting failed.\\n\n",
      "6 Error in optimize_dcc(data, dcc_order, distribution): DCC fitting failed.\\n\n",
      "7 Error in optimize_dcc(data, dcc_order, distribution): DCC fitting failed.\\n\n",
      "8                                                                        <NA>\n",
      "\n",
      "Best DCC model parameters:\n",
      "$dcc_order\n",
      "[1] 2 2\n",
      "\n",
      "$distribution\n",
      "[1] \"mvt\"\n",
      "\n",
      "AIC: 2.788953 \n",
      "BIC: 2.853945 \n"
     ]
    }
   ],
   "source": [
    "# Create a function for DCC optimization with parameterized settings\n",
    "optimize_dcc_params <- function(data, dcc_order = c(1,1), distribution = \"mvnorm\") {\n",
    "    tryCatch({\n",
    "        return(optimize_dcc(data, dcc_order, distribution))\n",
    "    }, error = function(e) {\n",
    "        return(list(\n",
    "            AIC = NA, \n",
    "            BIC = NA, \n",
    "            HQIC = NA, \n",
    "            LogLikelihood = NA,\n",
    "            error = as.character(e)\n",
    "        ))\n",
    "    })\n",
    "}\n",
    "\n",
    "# Set up parameter grid for DCC optimization\n",
    "library(parallel)\n",
    "library(doParallel)\n",
    "\n",
    "\n",
    "# Create parameter combinations\n",
    "param_grid <- expand.grid(\n",
    "    a = 1:2,\n",
    "    b = 1:2,\n",
    "    distribution = c(\"mvnorm\", \"mvt\")\n",
    ")\n",
    "\n",
    "# Create cluster\n",
    "num_cores <- parallel::detectCores() - 1\n",
    "cl <- makeCluster(num_cores)\n",
    "registerDoParallel(cl)\n",
    "\n",
    "# Export necessary functions and data to workers\n",
    "clusterExport(cl, c(\"optimize_dcc\", \"train_data_xts\"))\n",
    "\n",
    "# Parallel execution\n",
    "dcc_results <- foreach(i = 1:nrow(param_grid), .packages = c(\"rmgarch\", \"rugarch\")) %dopar% {\n",
    "    dcc_order <- c(param_grid$a[i], param_grid$b[i])\n",
    "    dist <- as.character(param_grid$distribution[i])\n",
    "    \n",
    "    result <- optimize_dcc_params(train_data_xts, dcc_order, dist)\n",
    "    \n",
    "    # Add parameters to results\n",
    "    result$parameters <- list(\n",
    "        dcc_order = dcc_order,\n",
    "        distribution = dist\n",
    "    )\n",
    "    \n",
    "    result\n",
    "}\n",
    "\n",
    "# Stop cluster\n",
    "stopCluster(cl)\n",
    "\n",
    "# Convert results to dataframe for easier analysis\n",
    "dcc_results_df <- do.call(rbind, lapply(1:length(dcc_results), function(i) {\n",
    "    result <- dcc_results[[i]]\n",
    "    data.frame(\n",
    "        ModelID = i,\n",
    "        DCC_A = result$parameters$dcc_order[1],\n",
    "        DCC_B = result$parameters$dcc_order[2],\n",
    "        Distribution = result$parameters$distribution,\n",
    "        AIC = result$AIC,\n",
    "        BIC = result$BIC,\n",
    "        HQIC = result$HQIC,\n",
    "        LogLikelihood = result$LogLikelihood,\n",
    "        Error = if(is.null(result$error)) NA else result$error,\n",
    "        stringsAsFactors = FALSE\n",
    "    )\n",
    "}))\n",
    "\n",
    "# Find best model based on AIC\n",
    "best_dcc_model <- dcc_results[[which.min(sapply(dcc_results, function(x) ifelse(is.na(x$AIC), Inf, x$AIC)))]]\n",
    "\n",
    "# Display results\n",
    "print(dcc_results_df)\n",
    "cat(\"\\nBest DCC model parameters:\\n\")\n",
    "print(best_dcc_model$parameters)\n",
    "cat(\"AIC:\", best_dcc_model$AIC, \"\\n\")\n",
    "cat(\"BIC:\", best_dcc_model$BIC, \"\\n\")\n",
    "\n",
    "# Save results\n",
    "write.csv(dcc_results_df, \"dcc_optimization_results.csv\", row.names = FALSE)"
   ]
  },
  {
   "cell_type": "code",
   "execution_count": 7,
   "metadata": {
    "vscode": {
     "languageId": "r"
    }
   },
   "outputs": [
    {
     "data": {
      "text/html": [
       "<table class=\"dataframe\">\n",
       "<caption>A data.frame: 8 × 9</caption>\n",
       "<thead>\n",
       "\t<tr><th scope=col>ModelID</th><th scope=col>DCC_A</th><th scope=col>DCC_B</th><th scope=col>Distribution</th><th scope=col>AIC</th><th scope=col>BIC</th><th scope=col>HQIC</th><th scope=col>LogLikelihood</th><th scope=col>Error</th></tr>\n",
       "\t<tr><th scope=col>&lt;int&gt;</th><th scope=col>&lt;int&gt;</th><th scope=col>&lt;int&gt;</th><th scope=col>&lt;chr&gt;</th><th scope=col>&lt;dbl&gt;</th><th scope=col>&lt;dbl&gt;</th><th scope=col>&lt;dbl&gt;</th><th scope=col>&lt;dbl&gt;</th><th scope=col>&lt;chr&gt;</th></tr>\n",
       "</thead>\n",
       "<tbody>\n",
       "\t<tr><td>1</td><td>1</td><td>1</td><td>mvnorm</td><td>      NA</td><td>      NA</td><td>      NA</td><td>       NA</td><td>Error in optimize_dcc(data, dcc_order, distribution): DCC fitting failed.\n",
       "</td></tr>\n",
       "\t<tr><td>2</td><td>2</td><td>1</td><td>mvnorm</td><td>      NA</td><td>      NA</td><td>      NA</td><td>       NA</td><td>Error in optimize_dcc(data, dcc_order, distribution): DCC fitting failed.\n",
       "</td></tr>\n",
       "\t<tr><td>3</td><td>1</td><td>2</td><td>mvnorm</td><td>3.065082</td><td>3.126654</td><td>3.064887</td><td>-5514.864</td><td>NA                                                                         </td></tr>\n",
       "\t<tr><td>4</td><td>2</td><td>2</td><td>mvnorm</td><td>      NA</td><td>      NA</td><td>      NA</td><td>       NA</td><td>Error in optimize_dcc(data, dcc_order, distribution): DCC fitting failed.\n",
       "</td></tr>\n",
       "\t<tr><td>5</td><td>1</td><td>1</td><td>mvt   </td><td>      NA</td><td>      NA</td><td>      NA</td><td>       NA</td><td>Error in optimize_dcc(data, dcc_order, distribution): DCC fitting failed.\n",
       "</td></tr>\n",
       "\t<tr><td>6</td><td>2</td><td>1</td><td>mvt   </td><td>      NA</td><td>      NA</td><td>      NA</td><td>       NA</td><td>Error in optimize_dcc(data, dcc_order, distribution): DCC fitting failed.\n",
       "</td></tr>\n",
       "\t<tr><td>7</td><td>1</td><td>2</td><td>mvt   </td><td>      NA</td><td>      NA</td><td>      NA</td><td>       NA</td><td>Error in optimize_dcc(data, dcc_order, distribution): DCC fitting failed.\n",
       "</td></tr>\n",
       "\t<tr><td>8</td><td>2</td><td>2</td><td>mvt   </td><td>2.788953</td><td>2.853945</td><td>2.788736</td><td>-5012.794</td><td>NA                                                                         </td></tr>\n",
       "</tbody>\n",
       "</table>\n"
      ],
      "text/latex": [
       "A data.frame: 8 × 9\n",
       "\\begin{tabular}{lllllllll}\n",
       " ModelID & DCC\\_A & DCC\\_B & Distribution & AIC & BIC & HQIC & LogLikelihood & Error\\\\\n",
       " <int> & <int> & <int> & <chr> & <dbl> & <dbl> & <dbl> & <dbl> & <chr>\\\\\n",
       "\\hline\n",
       "\t 1 & 1 & 1 & mvnorm &       NA &       NA &       NA &        NA & Error in optimize\\_dcc(data, dcc\\_order, distribution): DCC fitting failed.\n",
       "\\\\\n",
       "\t 2 & 2 & 1 & mvnorm &       NA &       NA &       NA &        NA & Error in optimize\\_dcc(data, dcc\\_order, distribution): DCC fitting failed.\n",
       "\\\\\n",
       "\t 3 & 1 & 2 & mvnorm & 3.065082 & 3.126654 & 3.064887 & -5514.864 & NA                                                                         \\\\\n",
       "\t 4 & 2 & 2 & mvnorm &       NA &       NA &       NA &        NA & Error in optimize\\_dcc(data, dcc\\_order, distribution): DCC fitting failed.\n",
       "\\\\\n",
       "\t 5 & 1 & 1 & mvt    &       NA &       NA &       NA &        NA & Error in optimize\\_dcc(data, dcc\\_order, distribution): DCC fitting failed.\n",
       "\\\\\n",
       "\t 6 & 2 & 1 & mvt    &       NA &       NA &       NA &        NA & Error in optimize\\_dcc(data, dcc\\_order, distribution): DCC fitting failed.\n",
       "\\\\\n",
       "\t 7 & 1 & 2 & mvt    &       NA &       NA &       NA &        NA & Error in optimize\\_dcc(data, dcc\\_order, distribution): DCC fitting failed.\n",
       "\\\\\n",
       "\t 8 & 2 & 2 & mvt    & 2.788953 & 2.853945 & 2.788736 & -5012.794 & NA                                                                         \\\\\n",
       "\\end{tabular}\n"
      ],
      "text/markdown": [
       "\n",
       "A data.frame: 8 × 9\n",
       "\n",
       "| ModelID &lt;int&gt; | DCC_A &lt;int&gt; | DCC_B &lt;int&gt; | Distribution &lt;chr&gt; | AIC &lt;dbl&gt; | BIC &lt;dbl&gt; | HQIC &lt;dbl&gt; | LogLikelihood &lt;dbl&gt; | Error &lt;chr&gt; |\n",
       "|---|---|---|---|---|---|---|---|---|\n",
       "| 1 | 1 | 1 | mvnorm |       NA |       NA |       NA |        NA | Error in optimize_dcc(data, dcc_order, distribution): DCC fitting failed.\n",
       " |\n",
       "| 2 | 2 | 1 | mvnorm |       NA |       NA |       NA |        NA | Error in optimize_dcc(data, dcc_order, distribution): DCC fitting failed.\n",
       " |\n",
       "| 3 | 1 | 2 | mvnorm | 3.065082 | 3.126654 | 3.064887 | -5514.864 | NA                                                                          |\n",
       "| 4 | 2 | 2 | mvnorm |       NA |       NA |       NA |        NA | Error in optimize_dcc(data, dcc_order, distribution): DCC fitting failed.\n",
       " |\n",
       "| 5 | 1 | 1 | mvt    |       NA |       NA |       NA |        NA | Error in optimize_dcc(data, dcc_order, distribution): DCC fitting failed.\n",
       " |\n",
       "| 6 | 2 | 1 | mvt    |       NA |       NA |       NA |        NA | Error in optimize_dcc(data, dcc_order, distribution): DCC fitting failed.\n",
       " |\n",
       "| 7 | 1 | 2 | mvt    |       NA |       NA |       NA |        NA | Error in optimize_dcc(data, dcc_order, distribution): DCC fitting failed.\n",
       " |\n",
       "| 8 | 2 | 2 | mvt    | 2.788953 | 2.853945 | 2.788736 | -5012.794 | NA                                                                          |\n",
       "\n"
      ],
      "text/plain": [
       "  ModelID DCC_A DCC_B Distribution AIC      BIC      HQIC     LogLikelihood\n",
       "1 1       1     1     mvnorm             NA       NA       NA        NA    \n",
       "2 2       2     1     mvnorm             NA       NA       NA        NA    \n",
       "3 3       1     2     mvnorm       3.065082 3.126654 3.064887 -5514.864    \n",
       "4 4       2     2     mvnorm             NA       NA       NA        NA    \n",
       "5 5       1     1     mvt                NA       NA       NA        NA    \n",
       "6 6       2     1     mvt                NA       NA       NA        NA    \n",
       "7 7       1     2     mvt                NA       NA       NA        NA    \n",
       "8 8       2     2     mvt          2.788953 2.853945 2.788736 -5012.794    \n",
       "  Error                                                                      \n",
       "1 Error in optimize_dcc(data, dcc_order, distribution): DCC fitting failed.\\n\n",
       "2 Error in optimize_dcc(data, dcc_order, distribution): DCC fitting failed.\\n\n",
       "3 NA                                                                         \n",
       "4 Error in optimize_dcc(data, dcc_order, distribution): DCC fitting failed.\\n\n",
       "5 Error in optimize_dcc(data, dcc_order, distribution): DCC fitting failed.\\n\n",
       "6 Error in optimize_dcc(data, dcc_order, distribution): DCC fitting failed.\\n\n",
       "7 Error in optimize_dcc(data, dcc_order, distribution): DCC fitting failed.\\n\n",
       "8 NA                                                                         "
      ]
     },
     "metadata": {},
     "output_type": "display_data"
    }
   ],
   "source": [
    "dcc_results_df"
   ]
  },
  {
   "cell_type": "code",
   "execution_count": null,
   "metadata": {
    "vscode": {
     "languageId": "r"
    }
   },
   "outputs": [],
   "source": []
  }
 ],
 "metadata": {
  "kernelspec": {
   "display_name": "R",
   "language": "R",
   "name": "ir"
  },
  "language_info": {
   "codemirror_mode": "r",
   "file_extension": ".r",
   "mimetype": "text/x-r-source",
   "name": "R",
   "pygments_lexer": "r",
   "version": "4.4.2"
  }
 },
 "nbformat": 4,
 "nbformat_minor": 2
}
